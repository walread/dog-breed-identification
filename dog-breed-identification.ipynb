{
 "cells": [
  {
   "cell_type": "markdown",
   "metadata": {},
   "source": [
    "# Dog Breed Classification Model 🐶\n",
    "\n",
    "This notebook builds an end-to-end multi-class image classifier using TensorFlow 2 and TensorFlow Hub.\n",
    "\n",
    "## 1. Problem\n",
    "\n",
    "Identifying the breed of a dog given an image of a dog.\n",
    "\n",
    "## 2. Data\n",
    "\n",
    "The data is from Kaggle's dog breed identification competition.\n",
    "\n",
    "https://www.kaggle.com/competitions/dog-breed-identification/data\n",
    "\n",
    "## 3. Evaluation\n",
    "\n",
    "A file with prediction probabilities of each dog breed for each test image.\n",
    "\n",
    "## 4. Features\n",
    "\n",
    "Info about the data:\n",
    "* Using unstructured data (images) so will be best to use deep learning/transfer learning.\n",
    "* There are 120 breeds meaning, 120 different classes.\n",
    "* There are 10,000+ images in the training set (with labels)\n",
    "* There are 10,000+ images in the test set (no labels) "
   ]
  },
  {
   "cell_type": "code",
   "execution_count": 3,
   "metadata": {},
   "outputs": [
    {
     "name": "stdout",
     "output_type": "stream",
     "text": [
      "GPU is Not Available\n"
     ]
    }
   ],
   "source": [
    "import tensorflow as tf\n",
    "print(\"GPU is\", \"available\" if tf.config.list_physical_devices(\"GPU\") else \"Not Available\")"
   ]
  },
  {
   "cell_type": "code",
   "execution_count": null,
   "metadata": {},
   "outputs": [],
   "source": []
  }
 ],
 "metadata": {
  "kernelspec": {
   "display_name": "Python 3.10.8 ('ml-course')",
   "language": "python",
   "name": "python3"
  },
  "language_info": {
   "codemirror_mode": {
    "name": "ipython",
    "version": 3
   },
   "file_extension": ".py",
   "mimetype": "text/x-python",
   "name": "python",
   "nbconvert_exporter": "python",
   "pygments_lexer": "ipython3",
   "version": "3.10.8"
  },
  "orig_nbformat": 4,
  "vscode": {
   "interpreter": {
    "hash": "5e60f6f09e97bd0d2864d99fee5ab8abd3e3b1e48e92b267aab604a563bce033"
   }
  }
 },
 "nbformat": 4,
 "nbformat_minor": 2
}
