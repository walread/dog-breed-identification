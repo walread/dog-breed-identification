{
 "cells": [
  {
   "cell_type": "code",
   "execution_count": null,
   "metadata": {},
   "outputs": [],
   "source": []
  }
 ],
 "metadata": {
  "kernelspec": {
   "display_name": "Python 3.10.8 ('ml-course')",
   "language": "python",
   "name": "python3"
  },
  "language_info": {
   "name": "python",
   "version": "3.10.8"
  },
  "orig_nbformat": 4,
  "vscode": {
   "interpreter": {
    "hash": "5e60f6f09e97bd0d2864d99fee5ab8abd3e3b1e48e92b267aab604a563bce033"
   }
  }
 },
 "nbformat": 4,
 "nbformat_minor": 2
}
